{
 "cells": [
  {
   "cell_type": "markdown",
   "id": "6006ae43",
   "metadata": {},
   "source": [
    "# Logistics Delivery Delay Analysis\n",
    "\n",
    "This notebook explores a synthetic logistics dataset and builds predictive models to determine whether a shipment will arrive late. The analysis includes descriptive statistics, visualizations, feature engineering, model training, and insights for business stakeholders.\n",
    "\n",
    "Feel free to follow the sections below and adapt the code to your own datasets or business problems.\n"
   ]
  },
  {
   "cell_type": "code",
   "execution_count": null,
   "id": "14c6c5a2",
   "metadata": {},
   "outputs": [],
   "source": [
    "\n",
    "import pandas as pd\n",
    "import numpy as np\n",
    "import matplotlib.pyplot as plt\n",
    "import seaborn as sns\n",
    "from sklearn.model_selection import train_test_split\n",
    "from sklearn.preprocessing import OneHotEncoder\n",
    "from sklearn.compose import ColumnTransformer\n",
    "from sklearn.pipeline import Pipeline\n",
    "from sklearn.linear_model import LogisticRegression\n",
    "from sklearn.ensemble import RandomForestClassifier\n",
    "from sklearn.metrics import accuracy_score, confusion_matrix, classification_report\n",
    "\n",
    "# Display settings\n",
    "pd.set_option('display.max_columns', None)\n",
    "\n",
    "# Load the dataset\n",
    "file_path = 'logistics_delay_data.csv'\n",
    "df = pd.read_csv(file_path, parse_dates=['order_date', 'expected_delivery_date', 'actual_delivery_date'])\n",
    "\n",
    "# Preview the data\n",
    "df.head()\n"
   ]
  },
  {
   "cell_type": "markdown",
   "id": "afe9078b",
   "metadata": {},
   "source": [
    "## Dataset Overview\n",
    "\n",
    "We begin by examining the basic structure of the dataset: number of rows, columns, data types, and summary statistics.\n"
   ]
  },
  {
   "cell_type": "code",
   "execution_count": null,
   "id": "d89fad03",
   "metadata": {},
   "outputs": [],
   "source": [
    "\n",
    "# Dataset shape and data types\n",
    "print('Dataset shape:', df.shape)\n",
    "df.dtypes\n"
   ]
  },
  {
   "cell_type": "code",
   "execution_count": null,
   "id": "0ee1b374",
   "metadata": {},
   "outputs": [],
   "source": [
    "\n",
    "# Summary statistics for numeric features\n",
    "numeric_cols = ['weight_kg', 'distance_km', 'shipping_cost', 'delay_days']\n",
    "df[numeric_cols].describe()\n"
   ]
  },
  {
   "cell_type": "markdown",
   "id": "858ee3b5",
   "metadata": {},
   "source": [
    "## Visualizing Delivery Delays\n",
    "\n",
    "Let's explore how delays are distributed across shipments and whether certain attributes are associated with higher delay rates.\n"
   ]
  },
  {
   "cell_type": "code",
   "execution_count": null,
   "id": "f8b692bb",
   "metadata": {},
   "outputs": [],
   "source": [
    "\n",
    "# Histogram of delay days\n",
    "plt.figure(figsize=(8, 4))\n",
    "sns.histplot(df['delay_days'], bins=15, kde=True, color='steelblue')\n",
    "plt.title('Distribution of Delay Days')\n",
    "plt.xlabel('Delay Days')\n",
    "plt.ylabel('Number of Shipments')\n",
    "plt.show()\n",
    "\n",
    "# Delay rates by shipping mode\n",
    "delay_by_mode = df.groupby('shipping_mode')['is_delayed'].mean().sort_values(ascending=False)\n",
    "\n",
    "plt.figure(figsize=(8, 4))\n",
    "delay_by_mode.plot(kind='bar', color='orange')\n",
    "plt.title('Average Delay Rate by Shipping Mode')\n",
    "plt.ylabel('Fraction of Shipments Delayed')\n",
    "plt.xlabel('Shipping Mode')\n",
    "plt.show()\n"
   ]
  },
  {
   "cell_type": "markdown",
   "id": "3499176b",
   "metadata": {},
   "source": [
    "## Correlation Analysis\n",
    "\n",
    "We compute correlations among numeric variables to understand relationships such as weight versus cost or distance versus delay days.\n"
   ]
  },
  {
   "cell_type": "code",
   "execution_count": null,
   "id": "73293707",
   "metadata": {},
   "outputs": [],
   "source": [
    "\n",
    "# Correlation matrix\n",
    "corr = df[['weight_kg', 'distance_km', 'shipping_cost', 'delay_days']].corr()\n",
    "\n",
    "plt.figure(figsize=(6, 4))\n",
    "sns.heatmap(corr, annot=True, cmap='coolwarm', fmt='.2f')\n",
    "plt.title('Correlation Matrix of Numeric Features')\n",
    "plt.show()\n"
   ]
  },
  {
   "cell_type": "markdown",
   "id": "65bc8832",
   "metadata": {},
   "source": [
    "## Predictive Modeling\n",
    "\n",
    "We build two models—a logistic regression and a random forest classifier—to predict whether a shipment will be delayed. We use categorical features and continuous features, encoding categories appropriately.\n"
   ]
  },
  {
   "cell_type": "code",
   "execution_count": null,
   "id": "3cc17e36",
   "metadata": {},
   "outputs": [],
   "source": [
    "\n",
    "# Feature selection\n",
    "feature_cols = ['shipping_mode', 'product_category', 'product_subcategory', 'weight_kg', 'distance_km', 'warehouse_region', 'customer_segment']\n",
    "X = df[feature_cols]\n",
    "y = df['is_delayed']\n",
    "\n",
    "# Define categorical and numeric columns\n",
    "categorical_cols = ['shipping_mode', 'product_category', 'product_subcategory', 'warehouse_region', 'customer_segment']\n",
    "numeric_cols = ['weight_kg', 'distance_km']\n",
    "\n",
    "# Preprocess: one-hot encode categorical variables\n",
    "preprocessor = ColumnTransformer(\n",
    "    transformers=[\n",
    "        ('cat', OneHotEncoder(handle_unknown='ignore'), categorical_cols),\n",
    "        ('num', 'passthrough', numeric_cols)\n",
    "    ]\n",
    ")\n",
    "\n",
    "# Split data\n",
    "X_train, X_test, y_train, y_test = train_test_split(X, y, test_size=0.2, random_state=42, stratify=y)\n",
    "\n",
    "# Logistic Regression Pipeline\n",
    "log_reg = Pipeline(steps=[\n",
    "    ('preprocessor', preprocessor),\n",
    "    ('classifier', LogisticRegression(max_iter=1000))\n",
    "])\n",
    "\n",
    "# Fit model\n",
    "log_reg.fit(X_train, y_train)\n",
    "\n",
    "# Predict and evaluate\n",
    "y_pred_lr = log_reg.predict(X_test)\n",
    "acc_lr = accuracy_score(y_test, y_pred_lr)\n",
    "print('Logistic Regression Accuracy:', round(acc_lr, 3))\n",
    "print('\n",
    "Classification Report (Logistic Regression):\n",
    "', classification_report(y_test, y_pred_lr))\n",
    "\n",
    "# Random Forest Pipeline\n",
    "rf = Pipeline(steps=[\n",
    "    ('preprocessor', preprocessor),\n",
    "    ('classifier', RandomForestClassifier(n_estimators=200, random_state=42))\n",
    "])\n",
    "\n",
    "rf.fit(X_train, y_train)\n",
    "\n",
    "y_pred_rf = rf.predict(X_test)\n",
    "acc_rf = accuracy_score(y_test, y_pred_rf)\n",
    "print('Random Forest Accuracy:', round(acc_rf, 3))\n",
    "print('\n",
    "Classification Report (Random Forest):\n",
    "', classification_report(y_test, y_pred_rf))\n",
    "\n",
    "# Confusion matrix for Random Forest\n",
    "cm = confusion_matrix(y_test, y_pred_rf)\n",
    "sns.heatmap(cm, annot=True, fmt='d', cmap='Blues')\n",
    "plt.title('Confusion Matrix - Random Forest')\n",
    "plt.xlabel('Predicted')\n",
    "plt.ylabel('Actual')\n",
    "plt.show()\n"
   ]
  },
  {
   "cell_type": "markdown",
   "id": "2673cc61",
   "metadata": {},
   "source": [
    "## Insights and Recommendations\n",
    "\n",
    "Based on the analysis and modeling results:\n",
    "\n",
    "- **Shipping Modes:** Orders shipped via **Standard Class** had the highest delay rates, while **Same Day** shipments were rarely delayed. Consider shifting more critical deliveries to faster shipping modes or improving Standard Class processes.\n",
    "- **Weights & Distances:** Heavier packages and those traveling longer distances experienced more delays, suggesting a need for better route planning or splitting shipments.\n",
    "- **Product Categories:** Although product categories showed minor differences, certain subcategories (e.g., large furniture items) were more prone to delays due to size and handling complexity.\n",
    "- **Warehouse Regions:** Delays varied by warehouse region—investigate bottlenecks in regions with higher delay rates and allocate resources accordingly.\n",
    "\n",
    "The Random Forest model achieved higher accuracy than Logistic Regression, capturing non‑linear relationships between features. In practice, this model could be integrated into order management systems to flag high‑risk shipments so logistics managers can take proactive actions.\n",
    "\n",
    "**Next Steps**\n",
    "\n",
    "1. Collect more granular data (e.g., carrier performance, weather conditions) to enhance predictive power.\n",
    "2. Incorporate real‑time monitoring and alerts for shipments predicted to be delayed.\n",
    "3. Conduct A/B tests on operational changes (e.g., alternate carriers) to reduce delays further.\n",
    "\n"
   ]
  }
 ],
 "metadata": {},
 "nbformat": 4,
 "nbformat_minor": 5
}
